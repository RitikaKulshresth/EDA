{
 "cells": [
  {
   "cell_type": "code",
   "execution_count": 1,
   "id": "3ddc37bf",
   "metadata": {},
   "outputs": [],
   "source": [
    "from scipy.stats import binom"
   ]
  },
  {
   "cell_type": "code",
   "execution_count": 2,
   "id": "22409962",
   "metadata": {},
   "outputs": [
    {
     "data": {
      "text/plain": [
       "0.2050781249999999"
      ]
     },
     "execution_count": 2,
     "metadata": {},
     "output_type": "execute_result"
    }
   ],
   "source": [
    "binom.pmf(6,10,0.5)"
   ]
  },
  {
   "cell_type": "code",
   "execution_count": 3,
   "id": "956d1fd4",
   "metadata": {},
   "outputs": [
    {
     "data": {
      "text/plain": [
       "0.21499084799999976"
      ]
     },
     "execution_count": 3,
     "metadata": {},
     "output_type": "execute_result"
    }
   ],
   "source": [
    "binom.pmf(7,10,0.6)"
   ]
  },
  {
   "cell_type": "code",
   "execution_count": 4,
   "id": "8e651b61",
   "metadata": {},
   "outputs": [
    {
     "data": {
      "text/plain": [
       "0.031921361119954424"
      ]
     },
     "execution_count": 4,
     "metadata": {},
     "output_type": "execute_result"
    }
   ],
   "source": [
    "# Q 1:\n",
    "binom.pmf(5,20,0.1)"
   ]
  },
  {
   "cell_type": "code",
   "execution_count": 5,
   "id": "48a47422",
   "metadata": {},
   "outputs": [
    {
     "data": {
      "text/plain": [
       "0.988746865835491"
      ]
     },
     "execution_count": 5,
     "metadata": {},
     "output_type": "execute_result"
    }
   ],
   "source": [
    "# Q2 :\n",
    "binom.cdf(5,20,0.1)"
   ]
  },
  {
   "cell_type": "code",
   "execution_count": 6,
   "id": "72decc15",
   "metadata": {},
   "outputs": [],
   "source": [
    "# Poisson Distribution Questions\n",
    "from scipy.stats import poisson"
   ]
  },
  {
   "cell_type": "code",
   "execution_count": 7,
   "id": "35bf01f3",
   "metadata": {},
   "outputs": [
    {
     "data": {
      "text/plain": [
       "0.18044704431548356"
      ]
     },
     "execution_count": 7,
     "metadata": {},
     "output_type": "execute_result"
    }
   ],
   "source": [
    "#poisson.pmf(x,lambda)\n",
    "poisson.pmf(3,2)"
   ]
  },
  {
   "cell_type": "code",
   "execution_count": 8,
   "id": "30bacad2",
   "metadata": {},
   "outputs": [
    {
     "data": {
      "text/plain": [
       "0.0888353173920848"
      ]
     },
     "execution_count": 8,
     "metadata": {},
     "output_type": "execute_result"
    }
   ],
   "source": [
    "poisson.pmf(20,20)"
   ]
  },
  {
   "cell_type": "code",
   "execution_count": 11,
   "id": "9d5f5382",
   "metadata": {},
   "outputs": [
    {
     "data": {
      "text/plain": [
       "0.5134000054138529"
      ]
     },
     "execution_count": 11,
     "metadata": {},
     "output_type": "execute_result"
    }
   ],
   "source": [
    "poisson.pmf(0,0.6667)"
   ]
  },
  {
   "cell_type": "code",
   "execution_count": 9,
   "id": "56685392",
   "metadata": {},
   "outputs": [
    {
     "data": {
      "text/plain": [
       "0.8878150272820301"
      ]
     },
     "execution_count": 9,
     "metadata": {},
     "output_type": "execute_result"
    }
   ],
   "source": [
    "poisson.cdf(25,20)"
   ]
  },
  {
   "cell_type": "code",
   "execution_count": null,
   "id": "db603892",
   "metadata": {},
   "outputs": [],
   "source": []
  }
 ],
 "metadata": {
  "kernelspec": {
   "display_name": "Python 3 (ipykernel)",
   "language": "python",
   "name": "python3"
  },
  "language_info": {
   "codemirror_mode": {
    "name": "ipython",
    "version": 3
   },
   "file_extension": ".py",
   "mimetype": "text/x-python",
   "name": "python",
   "nbconvert_exporter": "python",
   "pygments_lexer": "ipython3",
   "version": "3.9.13"
  }
 },
 "nbformat": 4,
 "nbformat_minor": 5
}
