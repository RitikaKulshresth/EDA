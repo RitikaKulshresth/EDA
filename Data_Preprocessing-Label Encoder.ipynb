{
 "cells": [
  {
   "cell_type": "code",
   "execution_count": 130,
   "id": "ea8b0224-b15d-467a-9134-6d80806735ad",
   "metadata": {},
   "outputs": [],
   "source": [
    "import os  # Operating system related functions\n",
    "import numpy as np  # Mathematical calculations/array\n",
    "import pandas as pd  # Data manipulation\n",
    "import seaborn as sns  #simple  Data visualization\n",
    "import matplotlib.pyplot as plt  # advanced Data visualization and statistics\n",
    "\n",
    "# This line should be used in Jupyter Notebook for inline plotting\n",
    "%matplotlib inline\n",
    "\n",
    "sns.set()  # Set the default Seaborn style\n",
    "import warnings  # Suppress warnings\n",
    "warnings.filterwarnings('ignore')  # Ignore all warnings as any updation happened on anaconda it will ignore the warnings"
   ]
  },
  {
   "cell_type": "code",
   "execution_count": 131,
   "id": "b2fe08b1-9d8d-4088-99e4-46da77bd5ce2",
   "metadata": {},
   "outputs": [
    {
     "name": "stdout",
     "output_type": "stream",
     "text": [
      "Requirement already satisfied: xlrd in c:\\users\\rahul srivastava\\anaconda3\\lib\\site-packages (2.0.1)Note: you may need to restart the kernel to use updated packages.\n",
      "\n"
     ]
    }
   ],
   "source": [
    "pip install xlrd"
   ]
  },
  {
   "cell_type": "code",
   "execution_count": 160,
   "id": "6f51be96-d653-44ea-a95d-5e840d30deea",
   "metadata": {},
   "outputs": [],
   "source": [
    "# Ensure xlrd is installed if dealing with .xls files\n",
    "dataset = pd.read_excel('Employee_Data.xls', engine='xlrd')"
   ]
  },
  {
   "cell_type": "code",
   "execution_count": 161,
   "id": "37ec1ef8-4b71-47b2-9381-ced650477850",
   "metadata": {},
   "outputs": [
    {
     "data": {
      "text/html": [
       "<div>\n",
       "<style scoped>\n",
       "    .dataframe tbody tr th:only-of-type {\n",
       "        vertical-align: middle;\n",
       "    }\n",
       "\n",
       "    .dataframe tbody tr th {\n",
       "        vertical-align: top;\n",
       "    }\n",
       "\n",
       "    .dataframe thead th {\n",
       "        text-align: right;\n",
       "    }\n",
       "</style>\n",
       "<table border=\"1\" class=\"dataframe\">\n",
       "  <thead>\n",
       "    <tr style=\"text-align: right;\">\n",
       "      <th></th>\n",
       "      <th>Employee Id</th>\n",
       "      <th>First Name</th>\n",
       "      <th>Last Name</th>\n",
       "      <th>Department</th>\n",
       "      <th>Age</th>\n",
       "      <th>Experience</th>\n",
       "      <th>Salary</th>\n",
       "    </tr>\n",
       "  </thead>\n",
       "  <tbody>\n",
       "    <tr>\n",
       "      <th>0</th>\n",
       "      <td>1</td>\n",
       "      <td>Joy</td>\n",
       "      <td>Bass</td>\n",
       "      <td>Sales and Marketing</td>\n",
       "      <td>28.0</td>\n",
       "      <td>3.0</td>\n",
       "      <td>32889</td>\n",
       "    </tr>\n",
       "    <tr>\n",
       "      <th>1</th>\n",
       "      <td>2</td>\n",
       "      <td>Sheila</td>\n",
       "      <td>Garza</td>\n",
       "      <td>Sales and Marketing</td>\n",
       "      <td>22.0</td>\n",
       "      <td>1.0</td>\n",
       "      <td>15944</td>\n",
       "    </tr>\n",
       "    <tr>\n",
       "      <th>2</th>\n",
       "      <td>3</td>\n",
       "      <td>John</td>\n",
       "      <td>Bryant</td>\n",
       "      <td>Customer Relations</td>\n",
       "      <td>22.0</td>\n",
       "      <td>1.0</td>\n",
       "      <td>40343</td>\n",
       "    </tr>\n",
       "    <tr>\n",
       "      <th>3</th>\n",
       "      <td>4</td>\n",
       "      <td>Christian</td>\n",
       "      <td>Farley</td>\n",
       "      <td>Customer Relations</td>\n",
       "      <td>22.0</td>\n",
       "      <td>1.0</td>\n",
       "      <td>19018</td>\n",
       "    </tr>\n",
       "    <tr>\n",
       "      <th>4</th>\n",
       "      <td>5</td>\n",
       "      <td>Colorado</td>\n",
       "      <td>Bowen</td>\n",
       "      <td>Accounting</td>\n",
       "      <td>27.0</td>\n",
       "      <td>0.0</td>\n",
       "      <td>24795</td>\n",
       "    </tr>\n",
       "  </tbody>\n",
       "</table>\n",
       "</div>"
      ],
      "text/plain": [
       "   Employee Id First Name Last Name           Department   Age  Experience  \\\n",
       "0            1        Joy      Bass  Sales and Marketing  28.0         3.0   \n",
       "1            2     Sheila     Garza  Sales and Marketing  22.0         1.0   \n",
       "2            3       John    Bryant   Customer Relations  22.0         1.0   \n",
       "3            4  Christian    Farley   Customer Relations  22.0         1.0   \n",
       "4            5   Colorado     Bowen           Accounting  27.0         0.0   \n",
       "\n",
       "   Salary  \n",
       "0   32889  \n",
       "1   15944  \n",
       "2   40343  \n",
       "3   19018  \n",
       "4   24795  "
      ]
     },
     "execution_count": 161,
     "metadata": {},
     "output_type": "execute_result"
    }
   ],
   "source": [
    "dataset.head()"
   ]
  },
  {
   "cell_type": "code",
   "execution_count": 162,
   "id": "cc77c15e-e66b-4da2-988d-2629e9883b92",
   "metadata": {},
   "outputs": [
    {
     "name": "stdout",
     "output_type": "stream",
     "text": [
      "<class 'pandas.core.frame.DataFrame'>\n",
      "RangeIndex: 100 entries, 0 to 99\n",
      "Data columns (total 7 columns):\n",
      " #   Column       Non-Null Count  Dtype  \n",
      "---  ------       --------------  -----  \n",
      " 0   Employee Id  100 non-null    int64  \n",
      " 1   First Name   100 non-null    object \n",
      " 2   Last Name    100 non-null    object \n",
      " 3   Department   81 non-null     object \n",
      " 4   Age          82 non-null     float64\n",
      " 5   Experience   90 non-null     float64\n",
      " 6   Salary       100 non-null    int64  \n",
      "dtypes: float64(2), int64(2), object(3)\n",
      "memory usage: 5.6+ KB\n"
     ]
    }
   ],
   "source": [
    "dataset.info()"
   ]
  },
  {
   "cell_type": "code",
   "execution_count": 163,
   "id": "9bb74f57-dc13-43b2-ae32-a25719c5aba1",
   "metadata": {},
   "outputs": [
    {
     "data": {
      "text/plain": [
       "Employee Id     0.0\n",
       "First Name      0.0\n",
       "Last Name       0.0\n",
       "Department     19.0\n",
       "Age            18.0\n",
       "Experience     10.0\n",
       "Salary          0.0\n",
       "dtype: float64"
      ]
     },
     "execution_count": 163,
     "metadata": {},
     "output_type": "execute_result"
    }
   ],
   "source": [
    "dataset.isnull().sum()/len(dataset)*100"
   ]
  },
  {
   "cell_type": "code",
   "execution_count": 164,
   "id": "bef0b33b-778b-4d20-8cfa-cf28248b7377",
   "metadata": {},
   "outputs": [
    {
     "data": {
      "text/plain": [
       "Department\n",
       "Sales and Marketing    30\n",
       "Accounting             27\n",
       "Customer Relations     24\n",
       "Name: count, dtype: int64"
      ]
     },
     "execution_count": 164,
     "metadata": {},
     "output_type": "execute_result"
    }
   ],
   "source": [
    "dataset['Department'].value_counts()"
   ]
  },
  {
   "cell_type": "code",
   "execution_count": 165,
   "id": "0e3c2d93-e14d-400f-9093-d40a140fe0a2",
   "metadata": {},
   "outputs": [],
   "source": [
    "dataset['Department'] = dataset['Department'].fillna('Sales and Marketing')"
   ]
  },
  {
   "cell_type": "code",
   "execution_count": 166,
   "id": "dab18b55-227f-4611-8528-2fac66590c07",
   "metadata": {},
   "outputs": [
    {
     "name": "stdout",
     "output_type": "stream",
     "text": [
      "<class 'pandas.core.frame.DataFrame'>\n",
      "RangeIndex: 100 entries, 0 to 99\n",
      "Data columns (total 7 columns):\n",
      " #   Column       Non-Null Count  Dtype  \n",
      "---  ------       --------------  -----  \n",
      " 0   Employee Id  100 non-null    int64  \n",
      " 1   First Name   100 non-null    object \n",
      " 2   Last Name    100 non-null    object \n",
      " 3   Department   100 non-null    object \n",
      " 4   Age          82 non-null     float64\n",
      " 5   Experience   90 non-null     float64\n",
      " 6   Salary       100 non-null    int64  \n",
      "dtypes: float64(2), int64(2), object(3)\n",
      "memory usage: 5.6+ KB\n"
     ]
    }
   ],
   "source": [
    "dataset.info()"
   ]
  },
  {
   "cell_type": "code",
   "execution_count": 167,
   "id": "dd2e2f69-2c92-4305-a775-b0cc0e128d63",
   "metadata": {},
   "outputs": [
    {
     "data": {
      "image/png": "[encoded data removed]",
      "text/plain": [
       "<Figure size 640x480 with 1 Axes>"
      ]
     },
     "metadata": {},
     "output_type": "display_data"
    }
   ],
   "source": [
    "sns.boxplot(y='Age',data=dataset)\n",
    "plt.show() #we don't have any outliers so we will go by mean"
   ]
  },
  {
   "cell_type": "code",
   "execution_count": 168,
   "id": "a93c373a-3887-4286-9180-b3e5bd366765",
   "metadata": {},
   "outputs": [
    {
     "data": {
      "image/png": "[encoded data removed]",
      "text/plain": [
       "<Figure size 640x480 with 1 Axes>"
      ]
     },
     "metadata": {},
     "output_type": "display_data"
    }
   ],
   "source": [
    "sns.boxplot(y='Experience',data=dataset)\n",
    "plt.show() #we don't have any outliers so we will go by mean"
   ]
  },
  {
   "cell_type": "code",
   "execution_count": 169,
   "id": "b33965e1-99db-4839-b30c-5a8c166be494",
   "metadata": {},
   "outputs": [],
   "source": [
    "dataset['Age'] = dataset['Age'].fillna(dataset['Age'].mean())"
   ]
  },
  {
   "cell_type": "code",
   "execution_count": 170,
   "id": "a5092ebb-d0fe-403e-a059-ed5bc269d981",
   "metadata": {},
   "outputs": [],
   "source": [
    "dataset['Experience'] = dataset['Experience'].fillna(dataset['Experience'].mean())"
   ]
  },
  {
   "cell_type": "code",
   "execution_count": 171,
   "id": "727e5a07-1602-4835-a69a-9327423869d3",
   "metadata": {},
   "outputs": [
    {
     "name": "stdout",
     "output_type": "stream",
     "text": [
      "<class 'pandas.core.frame.DataFrame'>\n",
      "RangeIndex: 100 entries, 0 to 99\n",
      "Data columns (total 7 columns):\n",
      " #   Column       Non-Null Count  Dtype  \n",
      "---  ------       --------------  -----  \n",
      " 0   Employee Id  100 non-null    int64  \n",
      " 1   First Name   100 non-null    object \n",
      " 2   Last Name    100 non-null    object \n",
      " 3   Department   100 non-null    object \n",
      " 4   Age          100 non-null    float64\n",
      " 5   Experience   100 non-null    float64\n",
      " 6   Salary       100 non-null    int64  \n",
      "dtypes: float64(2), int64(2), object(3)\n",
      "memory usage: 5.6+ KB\n"
     ]
    }
   ],
   "source": [
    "dataset.info()"
   ]
  },
  {
   "cell_type": "code",
   "execution_count": 172,
   "id": "c86e26fb-6b60-4a53-aa0b-35bcee9f7075",
   "metadata": {},
   "outputs": [
    {
     "data": {
      "text/plain": [
       "Employee Id    0\n",
       "First Name     0\n",
       "Last Name      0\n",
       "Department     0\n",
       "Age            0\n",
       "Experience     0\n",
       "Salary         0\n",
       "dtype: int64"
      ]
     },
     "execution_count": 172,
     "metadata": {},
     "output_type": "execute_result"
    }
   ],
   "source": [
    "dataset.isnull().sum()"
   ]
  },
  {
   "cell_type": "markdown",
   "id": "9420aecc-5dab-4b5c-9d92-a590e215c22a",
   "metadata": {},
   "source": [
    "# Encoding Concept"
   ]
  },
  {
   "cell_type": "markdown",
   "id": "a3753cd5-f8ed-42fd-9278-566224ee002e",
   "metadata": {},
   "source": [
    "## Approach 1: Label Encoder"
   ]
  },
  {
   "cell_type": "code",
   "execution_count": 173,
   "id": "2615ca39-a1c3-45d5-8b9d-d5c584b50fbd",
   "metadata": {},
   "outputs": [
    {
     "data": {
      "text/plain": [
       "Department\n",
       "Sales and Marketing    49\n",
       "Accounting             27\n",
       "Customer Relations     24\n",
       "Name: count, dtype: int64"
      ]
     },
     "execution_count": 173,
     "metadata": {},
     "output_type": "execute_result"
    }
   ],
   "source": [
    "dataset['Department'].value_counts()"
   ]
  },
  {
   "cell_type": "code",
   "execution_count": 174,
   "id": "09134c4e-162d-43a3-84a0-ecb6d79547e4",
   "metadata": {},
   "outputs": [],
   "source": [
    "dataset['Department'] = dataset['Department'].astype('category')\n",
    "dataset['Department'] = dataset['Department'].cat.codes"
   ]
  },
  {
   "cell_type": "code",
   "execution_count": 175,
   "id": "b57c0bc6-7072-4b6e-a965-ee6f6c8d6244",
   "metadata": {},
   "outputs": [
    {
     "data": {
      "text/plain": [
       "Department\n",
       "2    49\n",
       "0    27\n",
       "1    24\n",
       "Name: count, dtype: int64"
      ]
     },
     "execution_count": 175,
     "metadata": {},
     "output_type": "execute_result"
    }
   ],
   "source": [
    "dataset['Department'].value_counts()"
   ]
  },
  {
   "cell_type": "markdown",
   "id": "4a79c6e7-1782-4223-804b-d322750d3aca",
   "metadata": {},
   "source": [
    "# Approach No 2: One Hot Encoder"
   ]
  },
  {
   "cell_type": "code",
   "execution_count": 176,
   "id": "e10355a1-c8d5-4bc1-9b25-6e7e9a58bd97",
   "metadata": {},
   "outputs": [
    {
     "data": {
      "text/html": [
       "<div>\n",
       "<style scoped>\n",
       "    .dataframe tbody tr th:only-of-type {\n",
       "        vertical-align: middle;\n",
       "    }\n",
       "\n",
       "    .dataframe tbody tr th {\n",
       "        vertical-align: top;\n",
       "    }\n",
       "\n",
       "    .dataframe thead th {\n",
       "        text-align: right;\n",
       "    }\n",
       "</style>\n",
       "<table border=\"1\" class=\"dataframe\">\n",
       "  <thead>\n",
       "    <tr style=\"text-align: right;\">\n",
       "      <th></th>\n",
       "      <th>Employee Id</th>\n",
       "      <th>First Name</th>\n",
       "      <th>Last Name</th>\n",
       "      <th>Department</th>\n",
       "      <th>Age</th>\n",
       "      <th>Experience</th>\n",
       "      <th>Salary</th>\n",
       "    </tr>\n",
       "  </thead>\n",
       "  <tbody>\n",
       "    <tr>\n",
       "      <th>0</th>\n",
       "      <td>1</td>\n",
       "      <td>Joy</td>\n",
       "      <td>Bass</td>\n",
       "      <td>2</td>\n",
       "      <td>28.0</td>\n",
       "      <td>3.0</td>\n",
       "      <td>32889</td>\n",
       "    </tr>\n",
       "    <tr>\n",
       "      <th>1</th>\n",
       "      <td>2</td>\n",
       "      <td>Sheila</td>\n",
       "      <td>Garza</td>\n",
       "      <td>2</td>\n",
       "      <td>22.0</td>\n",
       "      <td>1.0</td>\n",
       "      <td>15944</td>\n",
       "    </tr>\n",
       "    <tr>\n",
       "      <th>2</th>\n",
       "      <td>3</td>\n",
       "      <td>John</td>\n",
       "      <td>Bryant</td>\n",
       "      <td>1</td>\n",
       "      <td>22.0</td>\n",
       "      <td>1.0</td>\n",
       "      <td>40343</td>\n",
       "    </tr>\n",
       "    <tr>\n",
       "      <th>3</th>\n",
       "      <td>4</td>\n",
       "      <td>Christian</td>\n",
       "      <td>Farley</td>\n",
       "      <td>1</td>\n",
       "      <td>22.0</td>\n",
       "      <td>1.0</td>\n",
       "      <td>19018</td>\n",
       "    </tr>\n",
       "    <tr>\n",
       "      <th>4</th>\n",
       "      <td>5</td>\n",
       "      <td>Colorado</td>\n",
       "      <td>Bowen</td>\n",
       "      <td>0</td>\n",
       "      <td>27.0</td>\n",
       "      <td>0.0</td>\n",
       "      <td>24795</td>\n",
       "    </tr>\n",
       "  </tbody>\n",
       "</table>\n",
       "</div>"
      ],
      "text/plain": [
       "   Employee Id First Name Last Name  Department   Age  Experience  Salary\n",
       "0            1        Joy      Bass           2  28.0         3.0   32889\n",
       "1            2     Sheila     Garza           2  22.0         1.0   15944\n",
       "2            3       John    Bryant           1  22.0         1.0   40343\n",
       "3            4  Christian    Farley           1  22.0         1.0   19018\n",
       "4            5   Colorado     Bowen           0  27.0         0.0   24795"
      ]
     },
     "execution_count": 176,
     "metadata": {},
     "output_type": "execute_result"
    }
   ],
   "source": [
    "dataset.head()"
   ]
  },
  {
   "cell_type": "code",
   "execution_count": 177,
   "id": "af1a7832-b9ce-4412-a8d5-1d5b4493b597",
   "metadata": {},
   "outputs": [],
   "source": [
    "dataset = pd.get_dummies(dataset,columns = ['Department'])"
   ]
  },
  {
   "cell_type": "code",
   "execution_count": 178,
   "id": "1251e4ec-cc09-4d46-a65a-6fc9917afa5d",
   "metadata": {},
   "outputs": [
    {
     "data": {
      "text/html": [
       "<div>\n",
       "<style scoped>\n",
       "    .dataframe tbody tr th:only-of-type {\n",
       "        vertical-align: middle;\n",
       "    }\n",
       "\n",
       "    .dataframe tbody tr th {\n",
       "        vertical-align: top;\n",
       "    }\n",
       "\n",
       "    .dataframe thead th {\n",
       "        text-align: right;\n",
       "    }\n",
       "</style>\n",
       "<table border=\"1\" class=\"dataframe\">\n",
       "  <thead>\n",
       "    <tr style=\"text-align: right;\">\n",
       "      <th></th>\n",
       "      <th>Employee Id</th>\n",
       "      <th>First Name</th>\n",
       "      <th>Last Name</th>\n",
       "      <th>Age</th>\n",
       "      <th>Experience</th>\n",
       "      <th>Salary</th>\n",
       "      <th>Department_0</th>\n",
       "      <th>Department_1</th>\n",
       "      <th>Department_2</th>\n",
       "    </tr>\n",
       "  </thead>\n",
       "  <tbody>\n",
       "    <tr>\n",
       "      <th>0</th>\n",
       "      <td>1</td>\n",
       "      <td>Joy</td>\n",
       "      <td>Bass</td>\n",
       "      <td>28.0</td>\n",
       "      <td>3.0</td>\n",
       "      <td>32889</td>\n",
       "      <td>False</td>\n",
       "      <td>False</td>\n",
       "      <td>True</td>\n",
       "    </tr>\n",
       "    <tr>\n",
       "      <th>1</th>\n",
       "      <td>2</td>\n",
       "      <td>Sheila</td>\n",
       "      <td>Garza</td>\n",
       "      <td>22.0</td>\n",
       "      <td>1.0</td>\n",
       "      <td>15944</td>\n",
       "      <td>False</td>\n",
       "      <td>False</td>\n",
       "      <td>True</td>\n",
       "    </tr>\n",
       "    <tr>\n",
       "      <th>2</th>\n",
       "      <td>3</td>\n",
       "      <td>John</td>\n",
       "      <td>Bryant</td>\n",
       "      <td>22.0</td>\n",
       "      <td>1.0</td>\n",
       "      <td>40343</td>\n",
       "      <td>False</td>\n",
       "      <td>True</td>\n",
       "      <td>False</td>\n",
       "    </tr>\n",
       "    <tr>\n",
       "      <th>3</th>\n",
       "      <td>4</td>\n",
       "      <td>Christian</td>\n",
       "      <td>Farley</td>\n",
       "      <td>22.0</td>\n",
       "      <td>1.0</td>\n",
       "      <td>19018</td>\n",
       "      <td>False</td>\n",
       "      <td>True</td>\n",
       "      <td>False</td>\n",
       "    </tr>\n",
       "    <tr>\n",
       "      <th>4</th>\n",
       "      <td>5</td>\n",
       "      <td>Colorado</td>\n",
       "      <td>Bowen</td>\n",
       "      <td>27.0</td>\n",
       "      <td>0.0</td>\n",
       "      <td>24795</td>\n",
       "      <td>True</td>\n",
       "      <td>False</td>\n",
       "      <td>False</td>\n",
       "    </tr>\n",
       "  </tbody>\n",
       "</table>\n",
       "</div>"
      ],
      "text/plain": [
       "   Employee Id First Name Last Name   Age  Experience  Salary  Department_0  \\\n",
       "0            1        Joy      Bass  28.0         3.0   32889         False   \n",
       "1            2     Sheila     Garza  22.0         1.0   15944         False   \n",
       "2            3       John    Bryant  22.0         1.0   40343         False   \n",
       "3            4  Christian    Farley  22.0         1.0   19018         False   \n",
       "4            5   Colorado     Bowen  27.0         0.0   24795          True   \n",
       "\n",
       "   Department_1  Department_2  \n",
       "0         False          True  \n",
       "1         False          True  \n",
       "2          True         False  \n",
       "3          True         False  \n",
       "4         False         False  "
      ]
     },
     "execution_count": 178,
     "metadata": {},
     "output_type": "execute_result"
    }
   ],
   "source": [
    "dataset.head()"
   ]
  },
  {
   "cell_type": "markdown",
   "id": "9eb9b393-98cb-424d-b0ae-93e63da29a10",
   "metadata": {},
   "source": [
    "# Dummy Variables(N-1)"
   ]
  },
  {
   "cell_type": "code",
   "execution_count": 179,
   "id": "4432ed6b-2154-42dd-9409-4ac7e69b57d6",
   "metadata": {},
   "outputs": [],
   "source": [
    "dataset = dataset.iloc[:,0:8]"
   ]
  },
  {
   "cell_type": "code",
   "execution_count": 180,
   "id": "f90b4f8a-b19c-488b-ae59-1d20f693e7d5",
   "metadata": {},
   "outputs": [
    {
     "data": {
      "text/html": [
       "<div>\n",
       "<style scoped>\n",
       "    .dataframe tbody tr th:only-of-type {\n",
       "        vertical-align: middle;\n",
       "    }\n",
       "\n",
       "    .dataframe tbody tr th {\n",
       "        vertical-align: top;\n",
       "    }\n",
       "\n",
       "    .dataframe thead th {\n",
       "        text-align: right;\n",
       "    }\n",
       "</style>\n",
       "<table border=\"1\" class=\"dataframe\">\n",
       "  <thead>\n",
       "    <tr style=\"text-align: right;\">\n",
       "      <th></th>\n",
       "      <th>Employee Id</th>\n",
       "      <th>First Name</th>\n",
       "      <th>Last Name</th>\n",
       "      <th>Age</th>\n",
       "      <th>Experience</th>\n",
       "      <th>Salary</th>\n",
       "      <th>Department_0</th>\n",
       "      <th>Department_1</th>\n",
       "    </tr>\n",
       "  </thead>\n",
       "  <tbody>\n",
       "    <tr>\n",
       "      <th>0</th>\n",
       "      <td>1</td>\n",
       "      <td>Joy</td>\n",
       "      <td>Bass</td>\n",
       "      <td>28.0</td>\n",
       "      <td>3.0</td>\n",
       "      <td>32889</td>\n",
       "      <td>False</td>\n",
       "      <td>False</td>\n",
       "    </tr>\n",
       "    <tr>\n",
       "      <th>1</th>\n",
       "      <td>2</td>\n",
       "      <td>Sheila</td>\n",
       "      <td>Garza</td>\n",
       "      <td>22.0</td>\n",
       "      <td>1.0</td>\n",
       "      <td>15944</td>\n",
       "      <td>False</td>\n",
       "      <td>False</td>\n",
       "    </tr>\n",
       "    <tr>\n",
       "      <th>2</th>\n",
       "      <td>3</td>\n",
       "      <td>John</td>\n",
       "      <td>Bryant</td>\n",
       "      <td>22.0</td>\n",
       "      <td>1.0</td>\n",
       "      <td>40343</td>\n",
       "      <td>False</td>\n",
       "      <td>True</td>\n",
       "    </tr>\n",
       "    <tr>\n",
       "      <th>3</th>\n",
       "      <td>4</td>\n",
       "      <td>Christian</td>\n",
       "      <td>Farley</td>\n",
       "      <td>22.0</td>\n",
       "      <td>1.0</td>\n",
       "      <td>19018</td>\n",
       "      <td>False</td>\n",
       "      <td>True</td>\n",
       "    </tr>\n",
       "    <tr>\n",
       "      <th>4</th>\n",
       "      <td>5</td>\n",
       "      <td>Colorado</td>\n",
       "      <td>Bowen</td>\n",
       "      <td>27.0</td>\n",
       "      <td>0.0</td>\n",
       "      <td>24795</td>\n",
       "      <td>True</td>\n",
       "      <td>False</td>\n",
       "    </tr>\n",
       "  </tbody>\n",
       "</table>\n",
       "</div>"
      ],
      "text/plain": [
       "   Employee Id First Name Last Name   Age  Experience  Salary  Department_0  \\\n",
       "0            1        Joy      Bass  28.0         3.0   32889         False   \n",
       "1            2     Sheila     Garza  22.0         1.0   15944         False   \n",
       "2            3       John    Bryant  22.0         1.0   40343         False   \n",
       "3            4  Christian    Farley  22.0         1.0   19018         False   \n",
       "4            5   Colorado     Bowen  27.0         0.0   24795          True   \n",
       "\n",
       "   Department_1  \n",
       "0         False  \n",
       "1         False  \n",
       "2          True  \n",
       "3          True  \n",
       "4         False  "
      ]
     },
     "execution_count": 180,
     "metadata": {},
     "output_type": "execute_result"
    }
   ],
   "source": [
    "dataset.head()"
   ]
  },
  {
   "cell_type": "code",
   "execution_count": 181,
   "id": "297a4825-ff03-4877-a94a-57d33f8b77d4",
   "metadata": {},
   "outputs": [],
   "source": [
    "#Regression Model -  One hot encoder\n",
    "#tree based model - Label Encoder"
   ]
  },
  {
   "cell_type": "markdown",
   "id": "17822d64-15cb-4bfb-a8c8-91502d5c85b4",
   "metadata": {},
   "source": [
    "# Feature Scaling"
   ]
  },
  {
   "cell_type": "code",
   "execution_count": 182,
   "id": "c77d97f8-f14b-4f29-9d02-53792b6d39f2",
   "metadata": {},
   "outputs": [],
   "source": [
    "# Approach 1: Normalisation -- when there is no outlier"
   ]
  },
  {
   "cell_type": "code",
   "execution_count": 183,
   "id": "1ecebb67-cc72-40ff-9b8e-53daf0c57c80",
   "metadata": {},
   "outputs": [],
   "source": [
    "dataset1 = dataset.copy() "
   ]
  },
  {
   "cell_type": "code",
   "execution_count": 184,
   "id": "1bbd0e63-e137-4794-91d6-5410d8847ff2",
   "metadata": {},
   "outputs": [
    {
     "data": {
      "text/html": [
       "<div>\n",
       "<style scoped>\n",
       "    .dataframe tbody tr th:only-of-type {\n",
       "        vertical-align: middle;\n",
       "    }\n",
       "\n",
       "    .dataframe tbody tr th {\n",
       "        vertical-align: top;\n",
       "    }\n",
       "\n",
       "    .dataframe thead th {\n",
       "        text-align: right;\n",
       "    }\n",
       "</style>\n",
       "<table border=\"1\" class=\"dataframe\">\n",
       "  <thead>\n",
       "    <tr style=\"text-align: right;\">\n",
       "      <th></th>\n",
       "      <th>Employee Id</th>\n",
       "      <th>First Name</th>\n",
       "      <th>Last Name</th>\n",
       "      <th>Age</th>\n",
       "      <th>Experience</th>\n",
       "      <th>Salary</th>\n",
       "      <th>Department_0</th>\n",
       "      <th>Department_1</th>\n",
       "    </tr>\n",
       "  </thead>\n",
       "  <tbody>\n",
       "    <tr>\n",
       "      <th>0</th>\n",
       "      <td>1</td>\n",
       "      <td>Joy</td>\n",
       "      <td>Bass</td>\n",
       "      <td>28.0</td>\n",
       "      <td>3.0</td>\n",
       "      <td>32889</td>\n",
       "      <td>False</td>\n",
       "      <td>False</td>\n",
       "    </tr>\n",
       "    <tr>\n",
       "      <th>1</th>\n",
       "      <td>2</td>\n",
       "      <td>Sheila</td>\n",
       "      <td>Garza</td>\n",
       "      <td>22.0</td>\n",
       "      <td>1.0</td>\n",
       "      <td>15944</td>\n",
       "      <td>False</td>\n",
       "      <td>False</td>\n",
       "    </tr>\n",
       "    <tr>\n",
       "      <th>2</th>\n",
       "      <td>3</td>\n",
       "      <td>John</td>\n",
       "      <td>Bryant</td>\n",
       "      <td>22.0</td>\n",
       "      <td>1.0</td>\n",
       "      <td>40343</td>\n",
       "      <td>False</td>\n",
       "      <td>True</td>\n",
       "    </tr>\n",
       "    <tr>\n",
       "      <th>3</th>\n",
       "      <td>4</td>\n",
       "      <td>Christian</td>\n",
       "      <td>Farley</td>\n",
       "      <td>22.0</td>\n",
       "      <td>1.0</td>\n",
       "      <td>19018</td>\n",
       "      <td>False</td>\n",
       "      <td>True</td>\n",
       "    </tr>\n",
       "    <tr>\n",
       "      <th>4</th>\n",
       "      <td>5</td>\n",
       "      <td>Colorado</td>\n",
       "      <td>Bowen</td>\n",
       "      <td>27.0</td>\n",
       "      <td>0.0</td>\n",
       "      <td>24795</td>\n",
       "      <td>True</td>\n",
       "      <td>False</td>\n",
       "    </tr>\n",
       "    <tr>\n",
       "      <th>...</th>\n",
       "      <td>...</td>\n",
       "      <td>...</td>\n",
       "      <td>...</td>\n",
       "      <td>...</td>\n",
       "      <td>...</td>\n",
       "      <td>...</td>\n",
       "      <td>...</td>\n",
       "      <td>...</td>\n",
       "    </tr>\n",
       "    <tr>\n",
       "      <th>95</th>\n",
       "      <td>96</td>\n",
       "      <td>Tyrone</td>\n",
       "      <td>Barber</td>\n",
       "      <td>47.0</td>\n",
       "      <td>22.0</td>\n",
       "      <td>79077</td>\n",
       "      <td>False</td>\n",
       "      <td>False</td>\n",
       "    </tr>\n",
       "    <tr>\n",
       "      <th>96</th>\n",
       "      <td>97</td>\n",
       "      <td>Urielle</td>\n",
       "      <td>Herrera</td>\n",
       "      <td>46.0</td>\n",
       "      <td>20.0</td>\n",
       "      <td>81187</td>\n",
       "      <td>False</td>\n",
       "      <td>False</td>\n",
       "    </tr>\n",
       "    <tr>\n",
       "      <th>97</th>\n",
       "      <td>98</td>\n",
       "      <td>Brendan</td>\n",
       "      <td>Solis</td>\n",
       "      <td>44.0</td>\n",
       "      <td>18.0</td>\n",
       "      <td>83847</td>\n",
       "      <td>False</td>\n",
       "      <td>True</td>\n",
       "    </tr>\n",
       "    <tr>\n",
       "      <th>98</th>\n",
       "      <td>99</td>\n",
       "      <td>Holmes</td>\n",
       "      <td>Nelson</td>\n",
       "      <td>47.0</td>\n",
       "      <td>22.0</td>\n",
       "      <td>89158</td>\n",
       "      <td>False</td>\n",
       "      <td>True</td>\n",
       "    </tr>\n",
       "    <tr>\n",
       "      <th>99</th>\n",
       "      <td>100</td>\n",
       "      <td>Avye</td>\n",
       "      <td>Davidson</td>\n",
       "      <td>44.0</td>\n",
       "      <td>21.0</td>\n",
       "      <td>91645</td>\n",
       "      <td>True</td>\n",
       "      <td>False</td>\n",
       "    </tr>\n",
       "  </tbody>\n",
       "</table>\n",
       "<p>100 rows × 8 columns</p>\n",
       "</div>"
      ],
      "text/plain": [
       "    Employee Id First Name Last Name   Age  Experience  Salary  Department_0  \\\n",
       "0             1        Joy      Bass  28.0         3.0   32889         False   \n",
       "1             2     Sheila     Garza  22.0         1.0   15944         False   \n",
       "2             3       John    Bryant  22.0         1.0   40343         False   \n",
       "3             4  Christian    Farley  22.0         1.0   19018         False   \n",
       "4             5   Colorado     Bowen  27.0         0.0   24795          True   \n",
       "..          ...        ...       ...   ...         ...     ...           ...   \n",
       "95           96     Tyrone    Barber  47.0        22.0   79077         False   \n",
       "96           97    Urielle   Herrera  46.0        20.0   81187         False   \n",
       "97           98    Brendan     Solis  44.0        18.0   83847         False   \n",
       "98           99     Holmes    Nelson  47.0        22.0   89158         False   \n",
       "99          100       Avye  Davidson  44.0        21.0   91645          True   \n",
       "\n",
       "    Department_1  \n",
       "0          False  \n",
       "1          False  \n",
       "2           True  \n",
       "3           True  \n",
       "4          False  \n",
       "..           ...  \n",
       "95         False  \n",
       "96         False  \n",
       "97          True  \n",
       "98          True  \n",
       "99         False  \n",
       "\n",
       "[100 rows x 8 columns]"
      ]
     },
     "execution_count": 184,
     "metadata": {},
     "output_type": "execute_result"
    }
   ],
   "source": [
    "dataset1"
   ]
  },
  {
   "cell_type": "code",
   "execution_count": 119,
   "id": "c0bc8535-6895-485c-8f9b-0371aab989e8",
   "metadata": {},
   "outputs": [
    {
     "data": {
      "text/html": [
       "<div>\n",
       "<style scoped>\n",
       "    .dataframe tbody tr th:only-of-type {\n",
       "        vertical-align: middle;\n",
       "    }\n",
       "\n",
       "    .dataframe tbody tr th {\n",
       "        vertical-align: top;\n",
       "    }\n",
       "\n",
       "    .dataframe thead th {\n",
       "        text-align: right;\n",
       "    }\n",
       "</style>\n",
       "<table border=\"1\" class=\"dataframe\">\n",
       "  <thead>\n",
       "    <tr style=\"text-align: right;\">\n",
       "      <th></th>\n",
       "    </tr>\n",
       "  </thead>\n",
       "  <tbody>\n",
       "    <tr>\n",
       "      <th>0</th>\n",
       "    </tr>\n",
       "    <tr>\n",
       "      <th>1</th>\n",
       "    </tr>\n",
       "    <tr>\n",
       "      <th>2</th>\n",
       "    </tr>\n",
       "    <tr>\n",
       "      <th>3</th>\n",
       "    </tr>\n",
       "    <tr>\n",
       "      <th>4</th>\n",
       "    </tr>\n",
       "    <tr>\n",
       "      <th>...</th>\n",
       "    </tr>\n",
       "    <tr>\n",
       "      <th>95</th>\n",
       "    </tr>\n",
       "    <tr>\n",
       "      <th>96</th>\n",
       "    </tr>\n",
       "    <tr>\n",
       "      <th>97</th>\n",
       "    </tr>\n",
       "    <tr>\n",
       "      <th>98</th>\n",
       "    </tr>\n",
       "    <tr>\n",
       "      <th>99</th>\n",
       "    </tr>\n",
       "  </tbody>\n",
       "</table>\n",
       "<p>100 rows × 0 columns</p>\n",
       "</div>"
      ],
      "text/plain": [
       "Empty DataFrame\n",
       "Columns: []\n",
       "Index: [0, 1, 2, 3, 4, 5, 6, 7, 8, 9, 10, 11, 12, 13, 14, 15, 16, 17, 18, 19, 20, 21, 22, 23, 24, 25, 26, 27, 28, 29, 30, 31, 32, 33, 34, 35, 36, 37, 38, 39, 40, 41, 42, 43, 44, 45, 46, 47, 48, 49, 50, 51, 52, 53, 54, 55, 56, 57, 58, 59, 60, 61, 62, 63, 64, 65, 66, 67, 68, 69, 70, 71, 72, 73, 74, 75, 76, 77, 78, 79, 80, 81, 82, 83, 84, 85, 86, 87, 88, 89, 90, 91, 92, 93, 94, 95, 96, 97, 98, 99]\n",
       "\n",
       "[100 rows x 0 columns]"
      ]
     },
     "execution_count": 119,
     "metadata": {},
     "output_type": "execute_result"
    }
   ],
   "source": [
    "dataset1.iloc[:,3:6]"
   ]
  },
  {
   "cell_type": "code",
   "execution_count": 125,
   "id": "ac593565-f06e-4def-8eb5-5bc5502577d0",
   "metadata": {},
   "outputs": [],
   "source": [
    "from sklearn.preprocessing import Normalizer\n",
    "x_norr = Normalizer()\n",
    "x_norm = x_norr.fit_transform(dataset1)\n",
    "#fit means apply and transform means change"
   ]
  },
  {
   "cell_type": "code",
   "execution_count": 126,
   "id": "865aca70-9780-4530-b122-8f05f1803d4b",
   "metadata": {},
   "outputs": [],
   "source": [
    "dataset_nor = pd.DataFrame(x_norm).head()"
   ]
  },
  {
   "cell_type": "code",
   "execution_count": 127,
   "id": "695d6ad5-878d-450b-ac18-d84fb92a17f1",
   "metadata": {},
   "outputs": [
    {
     "data": {
      "text/html": [
       "<div>\n",
       "<style scoped>\n",
       "    .dataframe tbody tr th:only-of-type {\n",
       "        vertical-align: middle;\n",
       "    }\n",
       "\n",
       "    .dataframe tbody tr th {\n",
       "        vertical-align: top;\n",
       "    }\n",
       "\n",
       "    .dataframe thead th {\n",
       "        text-align: right;\n",
       "    }\n",
       "</style>\n",
       "<table border=\"1\" class=\"dataframe\">\n",
       "  <thead>\n",
       "    <tr style=\"text-align: right;\">\n",
       "      <th></th>\n",
       "      <th>0</th>\n",
       "      <th>1</th>\n",
       "      <th>2</th>\n",
       "    </tr>\n",
       "  </thead>\n",
       "  <tbody>\n",
       "    <tr>\n",
       "      <th>0</th>\n",
       "      <td>0.000851</td>\n",
       "      <td>0.000091</td>\n",
       "      <td>1.000000</td>\n",
       "    </tr>\n",
       "    <tr>\n",
       "      <th>1</th>\n",
       "      <td>0.001380</td>\n",
       "      <td>0.000063</td>\n",
       "      <td>0.999999</td>\n",
       "    </tr>\n",
       "    <tr>\n",
       "      <th>2</th>\n",
       "      <td>0.000545</td>\n",
       "      <td>0.000025</td>\n",
       "      <td>1.000000</td>\n",
       "    </tr>\n",
       "    <tr>\n",
       "      <th>3</th>\n",
       "      <td>0.001157</td>\n",
       "      <td>0.000053</td>\n",
       "      <td>0.999999</td>\n",
       "    </tr>\n",
       "    <tr>\n",
       "      <th>4</th>\n",
       "      <td>0.001089</td>\n",
       "      <td>0.000000</td>\n",
       "      <td>0.999999</td>\n",
       "    </tr>\n",
       "  </tbody>\n",
       "</table>\n",
       "</div>"
      ],
      "text/plain": [
       "          0         1         2\n",
       "0  0.000851  0.000091  1.000000\n",
       "1  0.001380  0.000063  0.999999\n",
       "2  0.000545  0.000025  1.000000\n",
       "3  0.001157  0.000053  0.999999\n",
       "4  0.001089  0.000000  0.999999"
      ]
     },
     "execution_count": 127,
     "metadata": {},
     "output_type": "execute_result"
    }
   ],
   "source": [
    "dataset_nor.head()"
   ]
  },
  {
   "cell_type": "code",
   "execution_count": null,
   "id": "9fdefea0-1208-4128-9cbd-c6f2dbfdf910",
   "metadata": {},
   "outputs": [],
   "source": [
    "columns rename"
   ]
  },
  {
   "cell_type": "code",
   "execution_count": 185,
   "id": "11443211-2a18-423a-9444-16db0ff760cf",
   "metadata": {},
   "outputs": [],
   "source": [
    "dataset2 = dataset.copy()"
   ]
  },
  {
   "cell_type": "code",
   "execution_count": 187,
   "id": "59207fc0-7b6e-4fc7-8027-135216e56699",
   "metadata": {},
   "outputs": [
    {
     "data": {
      "text/html": [
       "<div>\n",
       "<style scoped>\n",
       "    .dataframe tbody tr th:only-of-type {\n",
       "        vertical-align: middle;\n",
       "    }\n",
       "\n",
       "    .dataframe tbody tr th {\n",
       "        vertical-align: top;\n",
       "    }\n",
       "\n",
       "    .dataframe thead th {\n",
       "        text-align: right;\n",
       "    }\n",
       "</style>\n",
       "<table border=\"1\" class=\"dataframe\">\n",
       "  <thead>\n",
       "    <tr style=\"text-align: right;\">\n",
       "      <th></th>\n",
       "      <th>Age</th>\n",
       "      <th>Experience</th>\n",
       "      <th>Salary</th>\n",
       "    </tr>\n",
       "  </thead>\n",
       "  <tbody>\n",
       "    <tr>\n",
       "      <th>0</th>\n",
       "      <td>28.0</td>\n",
       "      <td>3.0</td>\n",
       "      <td>32889</td>\n",
       "    </tr>\n",
       "    <tr>\n",
       "      <th>1</th>\n",
       "      <td>22.0</td>\n",
       "      <td>1.0</td>\n",
       "      <td>15944</td>\n",
       "    </tr>\n",
       "    <tr>\n",
       "      <th>2</th>\n",
       "      <td>22.0</td>\n",
       "      <td>1.0</td>\n",
       "      <td>40343</td>\n",
       "    </tr>\n",
       "    <tr>\n",
       "      <th>3</th>\n",
       "      <td>22.0</td>\n",
       "      <td>1.0</td>\n",
       "      <td>19018</td>\n",
       "    </tr>\n",
       "    <tr>\n",
       "      <th>4</th>\n",
       "      <td>27.0</td>\n",
       "      <td>0.0</td>\n",
       "      <td>24795</td>\n",
       "    </tr>\n",
       "  </tbody>\n",
       "</table>\n",
       "</div>"
      ],
      "text/plain": [
       "    Age  Experience  Salary\n",
       "0  28.0         3.0   32889\n",
       "1  22.0         1.0   15944\n",
       "2  22.0         1.0   40343\n",
       "3  22.0         1.0   19018\n",
       "4  27.0         0.0   24795"
      ]
     },
     "execution_count": 187,
     "metadata": {},
     "output_type": "execute_result"
    }
   ],
   "source": [
    "dataset2 = dataset.copy()\n",
    "dataset2 = dataset2.iloc[:,3:6]\n",
    "dataset2.head()"
   ]
  },
  {
   "cell_type": "code",
   "execution_count": null,
   "id": "6e0492b0-275c-4488-9c3f-74e9bae7005e",
   "metadata": {},
   "outputs": [],
   "source": []
  },
  {
   "cell_type": "code",
   "execution_count": null,
   "id": "23e2accf-2b40-4c5e-a862-3a62079dcbc0",
   "metadata": {},
   "outputs": [],
   "source": [
    "Standarization"
   ]
  },
  {
   "cell_type": "code",
   "execution_count": 189,
   "id": "1e6a6e59-a371-4d59-a0c5-0bf12e9719bc",
   "metadata": {},
   "outputs": [],
   "source": [
    "from sklearn.preprocessing import StandardScaler\n",
    "std_scaler = StandardScaler()\n",
    "dataset_std = std_scaler.fit_transform(dataset2)"
   ]
  },
  {
   "cell_type": "code",
   "execution_count": 190,
   "id": "86457493-33f5-4a85-8921-307b22df6ebd",
   "metadata": {},
   "outputs": [
    {
     "data": {
      "text/plain": [
       "array([[-1.16485118e+00, -1.81044925e+00, -1.23482325e+00],\n",
       "       [-1.86547071e+00, -2.11817433e+00, -1.88508853e+00],\n",
       "       [-1.86547071e+00, -2.11817433e+00, -9.48775604e-01],\n",
       "       [-1.86547071e+00, -2.11817433e+00, -1.76712361e+00],\n",
       "       [-1.28162110e+00, -2.27203688e+00, -1.54543093e+00],\n",
       "       [-1.39839102e+00, -1.50272416e+00, -1.90646343e+00],\n",
       "       [-1.63193087e+00, -1.34886162e+00, -1.18769869e+00],\n",
       "       [-1.04808125e+00, -1.96431179e+00, -1.87914039e+00],\n",
       "       [-1.04808125e+00, -1.50272416e+00, -8.81158761e-01],\n",
       "       [-9.31311332e-01, -1.34886162e+00, -2.04062262e+00],\n",
       "       [-1.39839102e+00, -1.50272416e+00, -1.16582491e+00],\n",
       "       [-1.39839102e+00, -1.34886162e+00, -1.59324625e+00],\n",
       "       [-1.63193087e+00, -1.50272416e+00, -1.37984258e+00],\n",
       "       [-1.86547071e+00, -1.96431179e+00, -1.21387047e+00],\n",
       "       [-1.51516094e+00, -1.81044925e+00, -2.04296350e+00],\n",
       "       [-1.51516094e+00,  2.73314780e-16, -8.05943657e-01],\n",
       "       [-1.86547071e+00,  2.73314780e-16, -1.98785692e+00],\n",
       "       [-1.51516094e+00,  2.73314780e-16, -1.85872487e+00],\n",
       "       [-1.28162110e+00,  2.73314780e-16, -1.35006354e+00],\n",
       "       [-1.51516094e+00,  2.73314780e-16, -1.32788275e+00],\n",
       "       [-1.86547071e+00,  2.73314780e-16, -1.92350195e+00],\n",
       "       [-1.86547071e+00,  2.73314780e-16, -1.78193638e+00],\n",
       "       [-1.63193087e+00,  2.73314780e-16, -1.03166572e+00],\n",
       "       [-1.28162110e+00,  2.73314780e-16, -8.43244208e-01],\n",
       "       [-1.86547071e+00,  2.73314780e-16, -1.47720009e+00],\n",
       "       [-5.81001565e-01, -2.71823825e-01, -5.31063151e-01],\n",
       "       [-2.30691798e-01, -1.19499908e+00, -2.74948046e-01],\n",
       "       [-3.47461720e-01, -7.33411452e-01, -4.15746116e-01],\n",
       "       [-5.81001565e-01, -4.25686367e-01,  1.89697098e-01],\n",
       "       [-9.31311332e-01, -1.17961283e-01,  3.69023721e-01],\n",
       "       [ 2.36387892e-01,  3.59012599e-02, -4.29791385e-01],\n",
       "       [ 1.19617969e-01, -4.25686367e-01, -1.89947303e-01],\n",
       "       [ 8.29700201e-16, -8.87273995e-01,  2.68174082e-01],\n",
       "       [ 8.29700201e-16, -1.19499908e+00, -5.77688840e-01],\n",
       "       [ 8.29700201e-16,  3.59012599e-02, -5.73659460e-01],\n",
       "       [ 8.29700201e-16, -5.79548910e-01,  2.78266721e-01],\n",
       "       [ 8.29700201e-16, -7.33411452e-01, -4.31288013e-01],\n",
       "       [ 8.29700201e-16, -1.19499908e+00, -2.57295521e-01],\n",
       "       [ 8.29700201e-16, -2.71823825e-01, -6.43073791e-02],\n",
       "       [ 8.29700201e-16, -8.87273995e-01, -7.99644008e-02],\n",
       "       [ 8.29700201e-16, -1.04113654e+00,  3.34722564e-02],\n",
       "       [ 8.29700201e-16, -4.25686367e-01, -5.12374500e-01],\n",
       "       [ 8.29700201e-16, -8.87273995e-01, -4.15093740e-01],\n",
       "       [ 8.29700201e-16, -4.25686367e-01, -5.60458441e-01],\n",
       "       [ 8.29700201e-16,  3.59012599e-02, -2.48961995e-02],\n",
       "       [ 8.29700201e-16, -1.17961283e-01, -1.88143676e-01],\n",
       "       [ 8.29700201e-16, -7.33411452e-01,  5.60751627e-02],\n",
       "       [ 8.29700201e-16, -1.04113654e+00, -2.98894079e-01],\n",
       "       [ 8.29700201e-16, -4.25686367e-01,  2.50982058e-01],\n",
       "       [ 8.29700201e-16,  3.59012599e-02, -1.47542869e-01],\n",
       "       [ 2.84804689e-03, -1.17961283e-01,  1.27452762e-01],\n",
       "       [ 3.53157814e-01,  1.57452668e+00,  1.13733066e+00],\n",
       "       [ 7.03467581e-01,  3.43626345e-01,  9.37358259e-01],\n",
       "       [ 3.53157814e-01,  3.43626345e-01,  1.12221089e+00],\n",
       "       [ 1.40408712e+00,  9.59076515e-01,  6.35039590e-01],\n",
       "       [ 1.05377735e+00,  6.51351430e-01,  7.38306858e-01],\n",
       "       [ 5.86697659e-01,  1.57452668e+00,  4.75284243e-01],\n",
       "       [ 1.17054727e+00,  1.57452668e+00,  4.54254714e-01],\n",
       "       [ 9.37007426e-01,  1.11293906e+00,  9.87437703e-01],\n",
       "       [ 7.03467581e-01,  1.89763802e-01,  8.13330087e-01],\n",
       "       [ 4.69927736e-01,  9.59076515e-01,  5.09054290e-01],\n",
       "       [ 7.03467581e-01,  6.51351430e-01,  7.60372513e-01],\n",
       "       [ 1.28731719e+00,  1.89763802e-01,  4.39825694e-01],\n",
       "       [ 7.03467581e-01,  4.97488887e-01,  7.08297566e-01],\n",
       "       [ 1.28731719e+00,  1.11293906e+00,  9.28340121e-01],\n",
       "       [ 7.03467581e-01,  3.43626345e-01,  3.97728261e-01],\n",
       "       [ 1.17054727e+00,  1.89763802e-01,  1.02857576e+00],\n",
       "       [ 1.05377735e+00,  1.26680160e+00,  4.46733204e-01],\n",
       "       [ 1.40408712e+00,  1.11293906e+00,  1.15720894e+00],\n",
       "       [ 4.69927736e-01,  6.51351430e-01,  9.87591203e-01],\n",
       "       [ 1.17054727e+00,  6.51351430e-01,  8.13944088e-01],\n",
       "       [ 9.37007426e-01,  1.42066414e+00,  4.70602487e-01],\n",
       "       [ 4.69927736e-01,  1.26680160e+00,  7.75914410e-01],\n",
       "       [ 8.20237504e-01,  1.11293906e+00,  9.92503210e-01],\n",
       "       [ 1.17054727e+00,  3.43626345e-01,  9.12030724e-01],\n",
       "       [ 3.53157814e-01,  1.26680160e+00,  1.18353422e+00],\n",
       "       [ 1.28731719e+00,  6.51351430e-01,  1.04757141e+00],\n",
       "       [ 3.53157814e-01,  1.11293906e+00,  1.10471187e+00],\n",
       "       [ 4.69927736e-01,  1.42066414e+00,  7.77833163e-01],\n",
       "       [ 3.53157814e-01,  1.11293906e+00,  5.69149623e-01],\n",
       "       [ 8.20237504e-01,  9.59076515e-01,  7.53733629e-01],\n",
       "       [ 5.86697659e-01,  1.89763802e-01,  8.94685199e-01],\n",
       "       [ 9.37007426e-01,  4.97488887e-01,  1.07984483e+00],\n",
       "       [ 1.05377735e+00,  8.05213972e-01,  1.02569763e+00],\n",
       "       [ 8.20237504e-01,  3.43626345e-01,  1.20364275e+00],\n",
       "       [ 4.69927736e-01,  3.43626345e-01,  6.99701554e-01],\n",
       "       [ 7.03467581e-01,  9.59076515e-01,  1.14017041e+00],\n",
       "       [ 8.20237504e-01,  6.51351430e-01,  6.60674125e-01],\n",
       "       [ 7.03467581e-01,  9.59076515e-01,  1.22758879e+00],\n",
       "       [ 1.05377735e+00,  8.05213972e-01,  8.66786536e-01],\n",
       "       [ 7.03467581e-01,  6.51351430e-01,  9.52017529e-01],\n",
       "       [ 7.03467581e-01,  4.97488887e-01,  1.27072235e+00],\n",
       "       [ 3.53157814e-01,  3.43626345e-01,  7.33663476e-01],\n",
       "       [ 1.17054727e+00,  9.59076515e-01,  5.54221728e-01],\n",
       "       [ 1.17054727e+00,  1.11293906e+00,  1.26343109e+00],\n",
       "       [ 1.05377735e+00,  1.11293906e+00,  5.37643705e-01],\n",
       "       [ 9.37007426e-01,  8.05213972e-01,  6.18615067e-01],\n",
       "       [ 7.03467581e-01,  4.97488887e-01,  7.20692708e-01],\n",
       "       [ 1.05377735e+00,  1.11293906e+00,  9.24502616e-01],\n",
       "       [ 7.03467581e-01,  9.59076515e-01,  1.01994137e+00]])"
      ]
     },
     "execution_count": 190,
     "metadata": {},
     "output_type": "execute_result"
    }
   ],
   "source": [
    "dataset_std"
   ]
  },
  {
   "cell_type": "code",
   "execution_count": 191,
   "id": "df167ad0-8278-4dfc-b7b5-30d703897c9c",
   "metadata": {},
   "outputs": [
    {
     "data": {
      "text/html": [
       "<div>\n",
       "<style scoped>\n",
       "    .dataframe tbody tr th:only-of-type {\n",
       "        vertical-align: middle;\n",
       "    }\n",
       "\n",
       "    .dataframe tbody tr th {\n",
       "        vertical-align: top;\n",
       "    }\n",
       "\n",
       "    .dataframe thead th {\n",
       "        text-align: right;\n",
       "    }\n",
       "</style>\n",
       "<table border=\"1\" class=\"dataframe\">\n",
       "  <thead>\n",
       "    <tr style=\"text-align: right;\">\n",
       "      <th></th>\n",
       "      <th>0</th>\n",
       "      <th>1</th>\n",
       "      <th>2</th>\n",
       "    </tr>\n",
       "  </thead>\n",
       "  <tbody>\n",
       "    <tr>\n",
       "      <th>0</th>\n",
       "      <td>-1.164851</td>\n",
       "      <td>-1.810449</td>\n",
       "      <td>-1.234823</td>\n",
       "    </tr>\n",
       "    <tr>\n",
       "      <th>1</th>\n",
       "      <td>-1.865471</td>\n",
       "      <td>-2.118174</td>\n",
       "      <td>-1.885089</td>\n",
       "    </tr>\n",
       "    <tr>\n",
       "      <th>2</th>\n",
       "      <td>-1.865471</td>\n",
       "      <td>-2.118174</td>\n",
       "      <td>-0.948776</td>\n",
       "    </tr>\n",
       "    <tr>\n",
       "      <th>3</th>\n",
       "      <td>-1.865471</td>\n",
       "      <td>-2.118174</td>\n",
       "      <td>-1.767124</td>\n",
       "    </tr>\n",
       "    <tr>\n",
       "      <th>4</th>\n",
       "      <td>-1.281621</td>\n",
       "      <td>-2.272037</td>\n",
       "      <td>-1.545431</td>\n",
       "    </tr>\n",
       "    <tr>\n",
       "      <th>...</th>\n",
       "      <td>...</td>\n",
       "      <td>...</td>\n",
       "      <td>...</td>\n",
       "    </tr>\n",
       "    <tr>\n",
       "      <th>95</th>\n",
       "      <td>1.053777</td>\n",
       "      <td>1.112939</td>\n",
       "      <td>0.537644</td>\n",
       "    </tr>\n",
       "    <tr>\n",
       "      <th>96</th>\n",
       "      <td>0.937007</td>\n",
       "      <td>0.805214</td>\n",
       "      <td>0.618615</td>\n",
       "    </tr>\n",
       "    <tr>\n",
       "      <th>97</th>\n",
       "      <td>0.703468</td>\n",
       "      <td>0.497489</td>\n",
       "      <td>0.720693</td>\n",
       "    </tr>\n",
       "    <tr>\n",
       "      <th>98</th>\n",
       "      <td>1.053777</td>\n",
       "      <td>1.112939</td>\n",
       "      <td>0.924503</td>\n",
       "    </tr>\n",
       "    <tr>\n",
       "      <th>99</th>\n",
       "      <td>0.703468</td>\n",
       "      <td>0.959077</td>\n",
       "      <td>1.019941</td>\n",
       "    </tr>\n",
       "  </tbody>\n",
       "</table>\n",
       "<p>100 rows × 3 columns</p>\n",
       "</div>"
      ],
      "text/plain": [
       "           0         1         2\n",
       "0  -1.164851 -1.810449 -1.234823\n",
       "1  -1.865471 -2.118174 -1.885089\n",
       "2  -1.865471 -2.118174 -0.948776\n",
       "3  -1.865471 -2.118174 -1.767124\n",
       "4  -1.281621 -2.272037 -1.545431\n",
       "..       ...       ...       ...\n",
       "95  1.053777  1.112939  0.537644\n",
       "96  0.937007  0.805214  0.618615\n",
       "97  0.703468  0.497489  0.720693\n",
       "98  1.053777  1.112939  0.924503\n",
       "99  0.703468  0.959077  1.019941\n",
       "\n",
       "[100 rows x 3 columns]"
      ]
     },
     "execution_count": 191,
     "metadata": {},
     "output_type": "execute_result"
    }
   ],
   "source": [
    "pd.DataFrame(dataset_std)"
   ]
  },
  {
   "cell_type": "code",
   "execution_count": null,
   "id": "6746a224-5642-46e3-bda3-0b8f4613d1db",
   "metadata": {},
   "outputs": [],
   "source": []
  }
 ],
 "metadata": {
  "kernelspec": {
   "display_name": "Python 3 (ipykernel)",
   "language": "python",
   "name": "python3"
  },
  "language_info": {
   "codemirror_mode": {
    "name": "ipython",
    "version": 3
   },
   "file_extension": ".py",
   "mimetype": "text/x-python",
   "name": "python",
   "nbconvert_exporter": "python",
   "pygments_lexer": "ipython3",
   "version": "3.12.4"
  }
 },
 "nbformat": 4,
 "nbformat_minor": 5
}
